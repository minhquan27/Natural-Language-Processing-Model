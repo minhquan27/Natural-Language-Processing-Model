{
  "nbformat": 4,
  "nbformat_minor": 0,
  "metadata": {
    "colab": {
      "name": " Sentiment analysis using LSTM.ipynb",
      "provenance": [],
      "collapsed_sections": [],
      "toc_visible": true
    },
    "kernelspec": {
      "name": "python3",
      "display_name": "Python 3"
    },
    "language_info": {
      "name": "python"
    },
    "accelerator": "GPU"
  },
  "cells": [
    {
      "cell_type": "markdown",
      "metadata": {
        "id": "jcSp2cJwNNxN"
      },
      "source": [
        "Cài đặt Pytorch\n"
      ]
    },
    {
      "cell_type": "code",
      "metadata": {
        "id": "hffuV7yENZSn"
      },
      "source": [
        "pip install torch==1.8.1+cu111 torchvision==0.9.1+cu111 torchaudio===0.8.1 -f https://download.pytorch.org/whl/torch_stable.html"
      ],
      "execution_count": null,
      "outputs": []
    },
    {
      "cell_type": "markdown",
      "metadata": {
        "id": "Xmc81B79PReR"
      },
      "source": [
        "Kết nối google drive"
      ]
    },
    {
      "cell_type": "code",
      "metadata": {
        "colab": {
          "base_uri": "https://localhost:8080/"
        },
        "id": "ZYgDQFUOPcMK",
        "outputId": "c0cc4c9d-6b8f-4cd3-892c-c21da3811826"
      },
      "source": [
        "from google.colab import drive\n",
        "drive.mount('/content/gdrive')"
      ],
      "execution_count": 1,
      "outputs": [
        {
          "output_type": "stream",
          "text": [
            "Mounted at /content/gdrive\n"
          ],
          "name": "stdout"
        }
      ]
    },
    {
      "cell_type": "markdown",
      "metadata": {
        "id": "OltxQzuIycy1"
      },
      "source": [
        "# **Cài đặt thư viện, hiển thị dữ liệu**"
      ]
    },
    {
      "cell_type": "markdown",
      "metadata": {
        "id": "spKStFluP2C7"
      },
      "source": [
        "Cài đặt các thư viện pytorch, GPU"
      ]
    },
    {
      "cell_type": "code",
      "metadata": {
        "id": "UsKD_pBzQTJ1"
      },
      "source": [
        "import numpy as np # linear algebra\n",
        "import pandas as pd # data processing, CSV file I/O (e.g. pd.read_csv)\n",
        "import torch\n",
        "import torch.nn as nn\n",
        "import torch.nn.functional as F\n",
        "from nltk.corpus import stopwords \n",
        "from collections import Counter\n",
        "import string\n",
        "import re\n",
        "import seaborn as sns\n",
        "from tqdm import tqdm\n",
        "import matplotlib.pyplot as plt\n",
        "from torch.utils.data import TensorDataset, DataLoader\n",
        "from sklearn.model_selection import train_test_split"
      ],
      "execution_count": 3,
      "outputs": []
    },
    {
      "cell_type": "code",
      "metadata": {
        "id": "CJ9-UG_MQbbC"
      },
      "source": [
        "# device configuration\n",
        "device = torch.device('cuda' if torch.cuda.is_available() else 'cpu')"
      ],
      "execution_count": 4,
      "outputs": []
    },
    {
      "cell_type": "code",
      "metadata": {
        "colab": {
          "base_uri": "https://localhost:8080/"
        },
        "id": "LnakumGRQiOp",
        "outputId": "b5f0b49e-ec13-4fd8-9341-c2122d48a065"
      },
      "source": [
        "device"
      ],
      "execution_count": 5,
      "outputs": [
        {
          "output_type": "execute_result",
          "data": {
            "text/plain": [
              "device(type='cuda')"
            ]
          },
          "metadata": {
            "tags": []
          },
          "execution_count": 5
        }
      ]
    },
    {
      "cell_type": "markdown",
      "metadata": {
        "id": "r4CYo_rlQoCx"
      },
      "source": [
        "Hiển thị, kiểm tra dữ liệu"
      ]
    },
    {
      "cell_type": "code",
      "metadata": {
        "colab": {
          "base_uri": "https://localhost:8080/",
          "height": 359
        },
        "id": "G7KwmVcRQyOu",
        "outputId": "ed346431-82cc-451d-a8e6-7a967cc46fae"
      },
      "source": [
        "path = '/content/gdrive/MyDrive/LSTM/data/'\n",
        "base_csv = path + 'IMDB_Dataset.csv'\n",
        "df = pd.read_csv(base_csv)\n",
        "df.head(10)"
      ],
      "execution_count": 6,
      "outputs": [
        {
          "output_type": "execute_result",
          "data": {
            "text/html": [
              "<div>\n",
              "<style scoped>\n",
              "    .dataframe tbody tr th:only-of-type {\n",
              "        vertical-align: middle;\n",
              "    }\n",
              "\n",
              "    .dataframe tbody tr th {\n",
              "        vertical-align: top;\n",
              "    }\n",
              "\n",
              "    .dataframe thead th {\n",
              "        text-align: right;\n",
              "    }\n",
              "</style>\n",
              "<table border=\"1\" class=\"dataframe\">\n",
              "  <thead>\n",
              "    <tr style=\"text-align: right;\">\n",
              "      <th></th>\n",
              "      <th>review</th>\n",
              "      <th>sentiment</th>\n",
              "    </tr>\n",
              "  </thead>\n",
              "  <tbody>\n",
              "    <tr>\n",
              "      <th>0</th>\n",
              "      <td>One of the other reviewers has mentioned that ...</td>\n",
              "      <td>positive</td>\n",
              "    </tr>\n",
              "    <tr>\n",
              "      <th>1</th>\n",
              "      <td>A wonderful little production. &lt;br /&gt;&lt;br /&gt;The...</td>\n",
              "      <td>positive</td>\n",
              "    </tr>\n",
              "    <tr>\n",
              "      <th>2</th>\n",
              "      <td>I thought this was a wonderful way to spend ti...</td>\n",
              "      <td>positive</td>\n",
              "    </tr>\n",
              "    <tr>\n",
              "      <th>3</th>\n",
              "      <td>Basically there's a family where a little boy ...</td>\n",
              "      <td>negative</td>\n",
              "    </tr>\n",
              "    <tr>\n",
              "      <th>4</th>\n",
              "      <td>Petter Mattei's \"Love in the Time of Money\" is...</td>\n",
              "      <td>positive</td>\n",
              "    </tr>\n",
              "    <tr>\n",
              "      <th>5</th>\n",
              "      <td>Probably my all-time favorite movie, a story o...</td>\n",
              "      <td>positive</td>\n",
              "    </tr>\n",
              "    <tr>\n",
              "      <th>6</th>\n",
              "      <td>I sure would like to see a resurrection of a u...</td>\n",
              "      <td>positive</td>\n",
              "    </tr>\n",
              "    <tr>\n",
              "      <th>7</th>\n",
              "      <td>This show was an amazing, fresh &amp; innovative i...</td>\n",
              "      <td>negative</td>\n",
              "    </tr>\n",
              "    <tr>\n",
              "      <th>8</th>\n",
              "      <td>Encouraged by the positive comments about this...</td>\n",
              "      <td>negative</td>\n",
              "    </tr>\n",
              "    <tr>\n",
              "      <th>9</th>\n",
              "      <td>If you like original gut wrenching laughter yo...</td>\n",
              "      <td>positive</td>\n",
              "    </tr>\n",
              "  </tbody>\n",
              "</table>\n",
              "</div>"
            ],
            "text/plain": [
              "                                              review sentiment\n",
              "0  One of the other reviewers has mentioned that ...  positive\n",
              "1  A wonderful little production. <br /><br />The...  positive\n",
              "2  I thought this was a wonderful way to spend ti...  positive\n",
              "3  Basically there's a family where a little boy ...  negative\n",
              "4  Petter Mattei's \"Love in the Time of Money\" is...  positive\n",
              "5  Probably my all-time favorite movie, a story o...  positive\n",
              "6  I sure would like to see a resurrection of a u...  positive\n",
              "7  This show was an amazing, fresh & innovative i...  negative\n",
              "8  Encouraged by the positive comments about this...  negative\n",
              "9  If you like original gut wrenching laughter yo...  positive"
            ]
          },
          "metadata": {
            "tags": []
          },
          "execution_count": 6
        }
      ]
    },
    {
      "cell_type": "code",
      "metadata": {
        "colab": {
          "base_uri": "https://localhost:8080/"
        },
        "id": "d9KKrhtIRV_u",
        "outputId": "1434ac8f-5734-4891-db83-712986f06910"
      },
      "source": [
        "df.info()"
      ],
      "execution_count": 7,
      "outputs": [
        {
          "output_type": "stream",
          "text": [
            "<class 'pandas.core.frame.DataFrame'>\n",
            "RangeIndex: 50000 entries, 0 to 49999\n",
            "Data columns (total 2 columns):\n",
            " #   Column     Non-Null Count  Dtype \n",
            "---  ------     --------------  ----- \n",
            " 0   review     50000 non-null  object\n",
            " 1   sentiment  50000 non-null  object\n",
            "dtypes: object(2)\n",
            "memory usage: 781.4+ KB\n"
          ],
          "name": "stdout"
        }
      ]
    },
    {
      "cell_type": "code",
      "metadata": {
        "colab": {
          "base_uri": "https://localhost:8080/"
        },
        "id": "va7pa_jTRkce",
        "outputId": "9c2121ca-0651-473e-9dbe-43a998aed08f"
      },
      "source": [
        "a = df['sentiment'].to_numpy()\n",
        "np.unique(a)"
      ],
      "execution_count": 8,
      "outputs": [
        {
          "output_type": "execute_result",
          "data": {
            "text/plain": [
              "array(['negative', 'positive'], dtype=object)"
            ]
          },
          "metadata": {
            "tags": []
          },
          "execution_count": 8
        }
      ]
    },
    {
      "cell_type": "markdown",
      "metadata": {
        "id": "lJ-WXq5gR3B9"
      },
      "source": [
        "Tập dữ liệu gồm 50000 câu review về các bộ phim, có hai nhãn cho bình luận, là 'negative': nhãn bình luận tiêu cực và 'positive': nhãn bình luận tích cực."
      ]
    },
    {
      "cell_type": "markdown",
      "metadata": {
        "id": "IpXTjycaS3GQ"
      },
      "source": [
        "Phân chia dữ liệu tỉ lệ dữ liệu huấn luyện : dữ liệu kiểm tra = 3:1"
      ]
    },
    {
      "cell_type": "code",
      "metadata": {
        "colab": {
          "base_uri": "https://localhost:8080/"
        },
        "id": "DJtfIMkVS5xP",
        "outputId": "16fc6252-a813-4714-ebbb-705b43fc515c"
      },
      "source": [
        "X,y = df['review'].values,df['sentiment'].values\n",
        "x_train,x_test,y_train,y_test = train_test_split(X,y,stratify=y)\n",
        "print(\"Số lượng dữ liệu huấn luyện {}\".format(x_train.shape))\n",
        "print(\"Số lượng dữ liệu kiểm tra {}\".format(x_test.shape))"
      ],
      "execution_count": 9,
      "outputs": [
        {
          "output_type": "stream",
          "text": [
            "Số lượng dữ liệu huấn luyện (37500,)\n",
            "Số lượng dữ liệu kiểm tra (12500,)\n"
          ],
          "name": "stdout"
        }
      ]
    },
    {
      "cell_type": "markdown",
      "metadata": {
        "id": "tyLLz6rPT-Hq"
      },
      "source": [
        "Trong dữ liệu huấn luyện số lượng nhãn tích cực và số lượng nhãn tiêu cực xấp xỉ bằng nhau"
      ]
    },
    {
      "cell_type": "code",
      "metadata": {
        "colab": {
          "base_uri": "https://localhost:8080/"
        },
        "id": "MaNq0DsuUQ3w",
        "outputId": "edb8ccc8-c02f-4a0a-b116-a21954df0528"
      },
      "source": [
        "np.unique(y_train, return_counts= True)"
      ],
      "execution_count": 10,
      "outputs": [
        {
          "output_type": "execute_result",
          "data": {
            "text/plain": [
              "(array(['negative', 'positive'], dtype=object), array([18750, 18750]))"
            ]
          },
          "metadata": {
            "tags": []
          },
          "execution_count": 10
        }
      ]
    },
    {
      "cell_type": "code",
      "metadata": {
        "colab": {
          "base_uri": "https://localhost:8080/",
          "height": 265
        },
        "id": "joCbNG_STt3e",
        "outputId": "3722297b-a978-4a1d-a6e5-345180c7e7e7"
      },
      "source": [
        "dd = pd.Series(y_train).value_counts()\n",
        "sns.barplot(x=np.array(['negative','positive']),y=dd.values)\n",
        "plt.show()"
      ],
      "execution_count": 11,
      "outputs": [
        {
          "output_type": "display_data",
          "data": {
            "image/png": "[encoded data removed]",
            "text/plain": [
              "<Figure size 432x288 with 1 Axes>"
            ]
          },
          "metadata": {
            "tags": [],
            "needs_background": "light"
          }
        }
      ]
    },
    {
      "cell_type": "markdown",
      "metadata": {
        "id": "ynRO0SWIUlJM"
      },
      "source": [
        "#**Tiền Xử Lý Dữ Liệu**"
      ]
    },
    {
      "cell_type": "code",
      "metadata": {
        "id": "nO1RrS4QU05d"
      },
      "source": [
        "def preprocess_string(s):\n",
        "    # Remove all non-word characters (everything except numbers and letters)\n",
        "    s = re.sub(r\"[^\\w\\s]\", '', s)\n",
        "    # Replace all runs of whitespaces with no space\n",
        "    s = re.sub(r\"\\s+\", '', s)\n",
        "    # replace digits with no space\n",
        "    s = re.sub(r\"\\d\", '', s)\n",
        "\n",
        "    return s"
      ],
      "execution_count": 12,
      "outputs": []
    },
    {
      "cell_type": "code",
      "metadata": {
        "colab": {
          "base_uri": "https://localhost:8080/"
        },
        "id": "32rnEtPDWAYe",
        "outputId": "30dca21c-4818-4e7c-cca8-163dd313a721"
      },
      "source": [
        "stopwords"
      ],
      "execution_count": 13,
      "outputs": [
        {
          "output_type": "execute_result",
          "data": {
            "text/plain": [
              "<WordListCorpusReader in '.../corpora/stopwords' (not loaded yet)>"
            ]
          },
          "metadata": {
            "tags": []
          },
          "execution_count": 13
        }
      ]
    },
    {
      "cell_type": "code",
      "metadata": {
        "colab": {
          "base_uri": "https://localhost:8080/"
        },
        "id": "1CAqexijWTTK",
        "outputId": "b2d60e62-f356-4306-fe5a-1d79266083ce"
      },
      "source": [
        "import nltk\n",
        "nltk.download('stopwords')\n",
        "stop = set(stopwords.words('english'))"
      ],
      "execution_count": 14,
      "outputs": [
        {
          "output_type": "stream",
          "text": [
            "[nltk_data] Downloading package stopwords to /root/nltk_data...\n",
            "[nltk_data]   Unzipping corpora/stopwords.zip.\n"
          ],
          "name": "stdout"
        }
      ]
    },
    {
      "cell_type": "code",
      "metadata": {
        "id": "v0RhKdu8VnMs"
      },
      "source": [
        "def tockenize(x_train,y_train,x_val,y_val):\n",
        "    word_list = []\n",
        "\n",
        "    stop_words = stop\n",
        "    for sent in x_train:\n",
        "        for word in sent.lower().split():\n",
        "            word = preprocess_string(word)\n",
        "            if word not in stop_words and word != '':\n",
        "                word_list.append(word)\n",
        "  \n",
        "    corpus = Counter(word_list)\n",
        "    # sorting on the basis of most common words\n",
        "    corpus_ = sorted(corpus,key=corpus.get,reverse=True)[:1000]\n",
        "    # creating a dict\n",
        "    onehot_dict = {w:i+1 for i,w in enumerate(corpus_)}\n",
        "    \n",
        "    # tockenize\n",
        "    final_list_train,final_list_test = [],[]\n",
        "    for sent in x_train:\n",
        "            final_list_train.append([onehot_dict[preprocess_string(word)] for word in sent.lower().split() \n",
        "                                     if preprocess_string(word) in onehot_dict.keys()])\n",
        "    for sent in x_val:\n",
        "            final_list_test.append([onehot_dict[preprocess_string(word)] for word in sent.lower().split() \n",
        "                                    if preprocess_string(word) in onehot_dict.keys()])\n",
        "            \n",
        "    encoded_train = [1 if label =='positive' else 0 for label in y_train]  \n",
        "    encoded_test = [1 if label =='positive' else 0 for label in y_val] \n",
        "    return np.array(final_list_train), np.array(encoded_train),np.array(final_list_test), np.array(encoded_test),onehot_dict"
      ],
      "execution_count": 15,
      "outputs": []
    },
    {
      "cell_type": "code",
      "metadata": {
        "colab": {
          "base_uri": "https://localhost:8080/"
        },
        "id": "GfcDBnd0VwSQ",
        "outputId": "d1b96471-6514-4c33-c7fc-d183c5dbdc38"
      },
      "source": [
        "x_train,y_train,x_test,y_test,vocab = tockenize(x_train,y_train,x_test,y_test)"
      ],
      "execution_count": 16,
      "outputs": [
        {
          "output_type": "stream",
          "text": [
            "/usr/local/lib/python3.7/dist-packages/ipykernel_launcher.py:28: VisibleDeprecationWarning: Creating an ndarray from ragged nested sequences (which is a list-or-tuple of lists-or-tuples-or ndarrays with different lengths or shapes) is deprecated. If you meant to do this, you must specify 'dtype=object' when creating the ndarray\n"
          ],
          "name": "stderr"
        }
      ]
    },
    {
      "cell_type": "markdown",
      "metadata": {
        "id": "aNWa-Jn2YMD1"
      },
      "source": [
        "Từ điển, mã hoá câu trong file train và test"
      ]
    },
    {
      "cell_type": "code",
      "metadata": {
        "colab": {
          "base_uri": "https://localhost:8080/"
        },
        "id": "9G9Ayw_AYWGm",
        "outputId": "205d8920-a4a4-4047-d9b4-37fe0dc7ca99"
      },
      "source": [
        "print(len(x_train))\n",
        "print(\"Hiển thị dữ liệu huấn luyện sau khi mã hoá:\", x_train[0:5])\n",
        "print(len(y_train))\n",
        "y_train\n",
        "print(vocab)\n",
        "print(\"Kích thước của từ điển:\",len(vocab))"
      ],
      "execution_count": 17,
      "outputs": [
        {
          "output_type": "stream",
          "text": [
            "37500\n",
            "Hiển thị dữ liệu huấn luyện sau khi mã hoá: [list([618, 823, 43, 54, 34, 222, 176, 324, 95, 1, 901, 542, 54, 145, 102, 3, 8, 461, 700, 7, 54, 46, 12, 178, 460, 1, 777, 1, 501, 373, 368, 253, 316, 131, 2, 49, 340, 296, 3, 1, 1, 202, 71, 118, 128, 68, 258, 446, 280, 68, 102, 1, 113, 73, 104, 843, 254, 60, 134, 305, 3, 729, 422, 104, 5, 255, 556, 675, 323, 695, 458, 260, 37, 55, 12, 8, 214, 5, 612, 222, 176, 102, 164, 737, 2, 804, 64, 71, 1, 595, 807, 98, 530, 302, 152, 7, 73, 556, 71, 101, 942, 513, 1, 16, 41, 932, 921, 330, 324, 321, 5, 23, 449, 38, 1, 79, 27, 248, 633, 12, 297, 546, 546, 366, 128, 27, 682, 324, 94, 686, 222, 176, 3, 10, 95, 32, 31, 19, 47, 8, 69, 164, 269, 247, 1, 115, 579, 62, 9, 85, 13, 75, 543, 783, 169, 314, 31, 763, 125, 102, 1, 356, 125, 256, 659, 788, 176, 54, 23, 175, 1, 583, 52, 95, 62, 30])\n",
            " list([385, 80, 669, 682, 26, 125, 38, 13, 922, 677, 204, 107, 110, 206, 86, 463, 844, 712, 589, 86, 917, 1, 308, 405, 835, 283, 31, 536, 658, 22, 37, 48, 36, 1, 147, 30, 35, 6])\n",
            " list([101, 1, 20, 2, 46, 14, 526, 2, 291, 278, 436, 744, 620, 153, 713, 3, 97, 25, 361, 933, 109, 738, 109, 319, 102, 370, 341, 153, 779, 43, 696, 792, 68, 221, 2, 678, 39, 572, 1, 693, 678, 3, 168, 51, 189, 411, 108, 175, 3, 596, 516, 51, 87, 180, 552, 440, 196, 3, 152, 112, 75, 516, 8, 833, 34, 416, 51, 34, 516, 221, 341, 254, 72, 49, 684, 550, 271, 33, 28, 445, 314, 377, 1, 112, 623, 623, 153, 5, 272, 703, 440, 112, 940, 3, 228, 39, 116, 753, 566, 860, 512, 651, 282, 237, 45, 4, 998, 3, 207, 651, 7, 65, 3, 231, 1, 316, 2, 18, 96, 34, 22, 3, 26, 756, 658, 396, 8, 72, 7, 923, 788, 109, 656])\n",
            " list([333, 4, 14, 480, 283, 190, 2, 367, 16, 823, 24, 677, 9, 283, 10, 161, 200, 263, 732, 3, 104, 10, 1, 333, 756, 119, 144, 164, 69, 169, 104, 13, 14, 49, 33, 28, 286, 169, 35, 323, 81, 7, 215, 37, 1, 104, 13, 494, 748, 96, 10, 66, 128, 4, 33, 49, 84, 7, 894, 107, 24, 7, 26, 257, 340, 346, 10, 37, 443, 2, 102, 513, 146, 169, 332, 119, 36, 4, 14, 480, 283, 190, 2])\n",
            " list([106, 347, 17, 2, 665, 20, 925, 91, 687, 55, 7, 315, 109, 1, 61, 253, 604, 580, 135, 125, 793, 671, 54, 198, 159, 38, 740, 304, 4, 356, 4, 195, 2, 428, 451, 7, 1, 175, 300, 192, 33, 62, 577, 115, 4, 434, 111, 168, 180, 159, 7, 65, 355, 1, 96, 376, 706, 5, 14, 210, 32, 628, 16, 282, 225, 790, 94, 535, 544, 938, 947, 628, 628, 159, 927, 1, 149, 201, 421, 422, 11, 796, 129, 64, 84, 201, 16, 49, 762, 4, 210, 577, 456, 106, 624, 1, 249, 128, 644, 766, 596, 8, 100, 257])]\n",
            "37500\n",
            "{'br': 1, 'movie': 2, 'film': 3, 'one': 4, 'like': 5, 'good': 6, 'even': 7, 'would': 8, 'time': 9, 'really': 10, 'see': 11, 'story': 12, 'much': 13, 'well': 14, 'get': 15, 'also': 16, 'great': 17, 'bad': 18, 'people': 19, 'first': 20, 'dont': 21, 'made': 22, 'make': 23, 'movies': 24, 'films': 25, 'could': 26, 'way': 27, 'characters': 28, 'think': 29, 'watch': 30, 'many': 31, 'seen': 32, 'two': 33, 'never': 34, 'character': 35, 'love': 36, 'little': 37, 'plot': 38, 'acting': 39, 'best': 40, 'know': 41, 'show': 42, 'life': 43, 'ever': 44, 'better': 45, 'still': 46, 'say': 47, 'end': 48, 'scene': 49, 'man': 50, 'scenes': 51, 'something': 52, 'go': 53, 'im': 54, 'back': 55, 'watching': 56, 'real': 57, 'didnt': 58, 'thing': 59, 'doesnt': 60, 'actors': 61, 'years': 62, 'another': 63, 'actually': 64, 'though': 65, 'funny': 66, 'makes': 67, 'nothing': 68, 'find': 69, 'look': 70, 'going': 71, 'new': 72, 'work': 73, 'lot': 74, 'every': 75, 'old': 76, 'us': 77, 'part': 78, 'cant': 79, 'director': 80, 'thats': 81, 'things': 82, 'want': 83, 'quite': 84, 'pretty': 85, 'cast': 86, 'around': 87, 'world': 88, 'seems': 89, 'young': 90, 'got': 91, 'take': 92, 'however': 93, 'fact': 94, 'ive': 95, 'enough': 96, 'horror': 97, 'big': 98, 'thought': 99, 'give': 100, 'may': 101, 'without': 102, 'long': 103, 'isnt': 104, 'right': 105, 'saw': 106, 'almost': 107, 'gets': 108, 'original': 109, 'always': 110, 'must': 111, 'music': 112, 'come': 113, 'times': 114, 'theres': 115, 'whole': 116, 'series': 117, 'least': 118, 'comedy': 119, 'role': 120, 'interesting': 121, 'point': 122, 'guy': 123, 'bit': 124, 'done': 125, 'action': 126, 'minutes': 127, 'far': 128, 'might': 129, 'since': 130, 'feel': 131, 'script': 132, 'last': 133, 'hes': 134, 'anything': 135, 'probably': 136, 'family': 137, 'kind': 138, 'away': 139, 'performance': 140, 'tv': 141, 'yet': 142, 'worst': 143, 'rather': 144, 'sure': 145, 'anyone': 146, 'fun': 147, 'found': 148, 'played': 149, 'girl': 150, 'believe': 151, 'making': 152, 'although': 153, 'woman': 154, 'trying': 155, 'shows': 156, 'especially': 157, 'everything': 158, 'course': 159, 'put': 160, 'worth': 161, 'goes': 162, 'day': 163, 'hard': 164, 'main': 165, 'comes': 166, 'dvd': 167, 'different': 168, 'maybe': 169, 'ending': 170, 'place': 171, 'looking': 172, 'wasnt': 173, 'looks': 174, 'sense': 175, 'book': 176, 'someone': 177, 'watched': 178, 'effects': 179, 'set': 180, 'reason': 181, 'three': 182, 'true': 183, 'plays': 184, 'screen': 185, 'job': 186, 'money': 187, 'play': 188, 'together': 189, 'american': 190, 'said': 191, 'takes': 192, 'special': 193, 'actor': 194, 'everyone': 195, 'instead': 196, 'seem': 197, 'later': 198, 'left': 199, 'seeing': 200, 'beautiful': 201, 'war': 202, 'audience': 203, 'john': 204, 'version': 205, 'excellent': 206, 'idea': 207, 'black': 208, 'night': 209, 'shot': 210, 'used': 211, 'simply': 212, 'youre': 213, 'nice': 214, 'fan': 215, 'kids': 216, 'completely': 217, 'high': 218, 'house': 219, 'second': 220, 'short': 221, 'read': 222, 'poor': 223, 'wife': 224, 'help': 225, 'else': 226, 'friends': 227, 'death': 228, 'along': 229, 'year': 230, 'less': 231, 'mind': 232, 'home': 233, 'star': 234, 'try': 235, 'half': 236, 'use': 237, 'given': 238, 'men': 239, 'need': 240, 'enjoy': 241, 'either': 242, 'boring': 243, 'stupid': 244, 'next': 245, 'truly': 246, 'classic': 247, 'hollywood': 248, 'production': 249, 'recommend': 250, 'wrong': 251, 'getting': 252, 'performances': 253, 'line': 254, 'rest': 255, 'start': 256, 'full': 257, 'couple': 258, 'dead': 259, 'father': 260, 'let': 261, 'came': 262, 'tell': 263, 'perhaps': 264, 'awful': 265, 'terrible': 266, 'remember': 267, 'women': 268, 'understand': 269, 'school': 270, 'camera': 271, 'keep': 272, 'video': 273, 'moments': 274, 'others': 275, 'sex': 276, 'wonderful': 277, 'human': 278, 'playing': 279, 'mean': 280, 'definitely': 281, 'couldnt': 282, 'early': 283, 'name': 284, 'gives': 285, 'top': 286, 'episode': 287, 'person': 288, 'perfect': 289, 'budget': 290, 'went': 291, 'often': 292, 'finally': 293, 'small': 294, 'absolutely': 295, 'piece': 296, 'lines': 297, 'stars': 298, 'face': 299, 'title': 300, 'certainly': 301, 'dialogue': 302, 'case': 303, 'guys': 304, 'entire': 305, 'liked': 306, 'head': 307, 'yes': 308, 'become': 309, 'hope': 310, 'worse': 311, 'loved': 312, 'supposed': 313, 'sort': 314, 'written': 315, 'overall': 316, 'entertaining': 317, 'live': 318, 'several': 319, 'style': 320, 'felt': 321, 'lost': 322, 'mother': 323, 'totally': 324, 'problem': 325, 'boy': 326, 'friend': 327, 'based': 328, 'wanted': 329, 'seemed': 330, 'laugh': 331, 'fans': 332, 'mr': 333, 'beginning': 334, 'waste': 335, 'picture': 336, 'shes': 337, 'oh': 338, 'sound': 339, 'dark': 340, 'final': 341, 'lead': 342, 'id': 343, 'already': 344, 'care': 345, 'humor': 346, 'cinema': 347, 'evil': 348, 'becomes': 349, 'despite': 350, 'children': 351, 'wont': 352, 'youll': 353, 'example': 354, 'turn': 355, 'guess': 356, 'game': 357, 'throughout': 358, 'direction': 359, 'low': 360, 'able': 361, 'white': 362, 'lives': 363, 'drama': 364, 'wants': 365, 'days': 366, 'unfortunately': 367, 'fine': 368, 'theyre': 369, 'horrible': 370, 'called': 371, 'history': 372, 'amazing': 373, 'kill': 374, 'girls': 375, 'turns': 376, 'act': 377, 'tries': 378, 'works': 379, 'quality': 380, 'gave': 381, 'enjoyed': 382, 'writing': 383, 'side': 384, 'favorite': 385, 'michael': 386, 'killer': 387, 'brilliant': 388, 'past': 389, 'parts': 390, 'behind': 391, 'expect': 392, 'obviously': 393, 'son': 394, 'ones': 395, 'matter': 396, 'run': 397, 'car': 398, 'town': 399, 'eyes': 400, 'stuff': 401, 'directed': 402, 'flick': 403, 'sometimes': 404, 'starts': 405, 'city': 406, 'highly': 407, 'soon': 408, 'decent': 409, 'heart': 410, 'viewer': 411, 'took': 412, 'group': 413, 'says': 414, 'late': 415, 'heard': 416, 'feeling': 417, 'thinking': 418, 'art': 419, 'fight': 420, 'actress': 421, 'ill': 422, 'hour': 423, 'happens': 424, 'killed': 425, 'genre': 426, 'hell': 427, 'except': 428, 'kid': 429, 'child': 430, 'police': 431, 'leave': 432, 'blood': 433, 'extremely': 434, 'coming': 435, 'experience': 436, 'close': 437, 'wouldnt': 438, 'told': 439, 'score': 440, 'strong': 441, 'stories': 442, 'save': 443, 'looked': 444, 'moment': 445, 'etc': 446, 'living': 447, 'anyway': 448, 'lack': 449, 'attempt': 450, 'god': 451, 'cannot': 452, 'simple': 453, 'chance': 454, 'particularly': 455, 'wonder': 456, 'involved': 457, 'happened': 458, 'shown': 459, 'itbr': 460, 'complete': 461, 'ok': 462, 'type': 463, 'hand': 464, 'stop': 465, 'happen': 466, 'including': 467, 'serious': 468, 'hilarious': 469, 'james': 470, 'daughter': 471, 'opening': 472, 'voice': 473, 'david': 474, 'obvious': 475, 'taken': 476, 'exactly': 477, 'violence': 478, 'lets': 479, 'known': 480, 'please': 481, 'roles': 482, 'hours': 483, 'murder': 484, 'robert': 485, 'usually': 486, 'song': 487, 'number': 488, 'across': 489, 'cool': 490, 'ago': 491, 'reality': 492, 'english': 493, 'none': 494, 'saying': 495, 'wish': 496, 'ridiculous': 497, 'released': 498, 'relationship': 499, 'order': 500, 'cinematography': 501, 'seriously': 502, 'possible': 503, 'interest': 504, 'jokes': 505, 'sad': 506, 'slow': 507, 'gore': 508, 'shots': 509, 'call': 510, 'major': 511, 'huge': 512, 'annoying': 513, 'mostly': 514, 'whose': 515, 'cut': 516, 'today': 517, 'body': 518, 'running': 519, 'hit': 520, 'crap': 521, 'somewhat': 522, 'alone': 523, 'age': 524, 'talent': 525, 'beyond': 526, 'power': 527, 'ends': 528, 'knows': 529, 'brother': 530, 'career': 531, 'started': 532, 'taking': 533, 'apparently': 534, 'female': 535, 'important': 536, 'usual': 537, 'scary': 538, 'opinion': 539, 'finds': 540, 'view': 541, 'novel': 542, 'change': 543, 'hero': 544, 'happy': 545, 'word': 546, 'documentary': 547, 'due': 548, 'turned': 549, 'silly': 550, 'knew': 551, 'musical': 552, 'basically': 553, 'moviebr': 554, 'country': 555, 'whats': 556, 'rating': 557, 'words': 558, 'local': 559, 'clearly': 560, 'upon': 561, 'attention': 562, 'talking': 563, 'strange': 564, 'events': 565, 'level': 566, 'directors': 567, 'problems': 568, 'single': 569, 'husband': 570, 'arent': 571, 'cheap': 572, 'jack': 573, 'talk': 574, 'room': 575, 'episodes': 576, 'sequence': 577, 'four': 578, 'light': 579, 'easily': 580, 'british': 581, 'add': 582, 'disappointed': 583, 'french': 584, 'television': 585, 'tells': 586, 'whether': 587, 'lots': 588, 'supporting': 589, 'modern': 590, 'miss': 591, 'bunch': 592, 'giving': 593, 'bring': 594, 'soundtrack': 595, 'appears': 596, 'ten': 597, 'dialog': 598, 'review': 599, 'mention': 600, 'enjoyable': 601, 'team': 602, 'predictable': 603, 'sets': 604, 'songs': 605, 'similar': 606, 'filmed': 607, 'moving': 608, 'romantic': 609, 'message': 610, 'needs': 611, 'havent': 612, 'surprised': 613, 'entertainment': 614, 'clear': 615, 'tried': 616, 'viewers': 617, 'george': 618, 'showing': 619, 'space': 620, 'certain': 621, 'middle': 622, 'theme': 623, 'filmbr': 624, 'hate': 625, 'five': 626, 'comments': 627, 'earth': 628, 'dull': 629, 'future': 630, 'parents': 631, 'falls': 632, 'feels': 633, 'among': 634, 'release': 635, 'using': 636, 'easy': 637, 'actual': 638, 'stay': 639, 'within': 640, 'sorry': 641, 'fall': 642, 'sequel': 643, 'named': 644, 'comic': 645, 'near': 646, 'gone': 647, 'nearly': 648, 'typical': 649, 'storyline': 650, 'monster': 651, 'dr': 652, 'rock': 653, 'theater': 654, 'kept': 655, 'thriller': 656, 'fantastic': 657, 'subject': 658, 'buy': 659, 'avoid': 660, 'working': 661, 'king': 662, 'doubt': 663, 'peter': 664, 'tale': 665, 'writer': 666, 'effort': 667, 'points': 668, 'means': 669, 'greatest': 670, 'die': 671, 'th': 672, 'straight': 673, 'ways': 674, 'deal': 675, 'class': 676, 'suspense': 677, 'editing': 678, 'realistic': 679, 'leads': 680, 'richard': 681, 'imagine': 682, 'somehow': 683, 'begins': 684, 'general': 685, 'youve': 686, 'brought': 687, 'famous': 688, 'paul': 689, 'okay': 690, 'material': 691, 'move': 692, 'feature': 693, 'check': 694, 'sister': 695, 'elements': 696, 'boys': 697, 'rent': 698, 'viewing': 699, 'mystery': 700, 'form': 701, 'sit': 702, 'reviews': 703, 'forget': 704, 'figure': 705, 'atmosphere': 706, 'sequences': 707, 'fast': 708, 'animation': 709, 'learn': 710, 'minute': 711, 'lady': 712, 'particular': 713, 'killing': 714, 'eventually': 715, 'tom': 716, 'decided': 717, 'premise': 718, 'whos': 719, 'york': 720, 'period': 721, 'hear': 722, 'surprise': 723, 'believable': 724, 'indeed': 725, 'dog': 726, 'wait': 727, 'crime': 728, 'weak': 729, 'shame': 730, 'expected': 731, 'truth': 732, 'possibly': 733, 'eye': 734, 'poorly': 735, 'oscar': 736, 'follow': 737, 'red': 738, 'forced': 739, 'crew': 740, 'difficult': 741, 'third': 742, 'lame': 743, 'deep': 744, 'writers': 745, 'open': 746, 'stand': 747, 'situation': 748, 'reading': 749, 'whatever': 750, 'became': 751, 'previous': 752, 'question': 753, 'begin': 754, 'gay': 755, 'average': 756, 'note': 757, 'unless': 758, 'season': 759, 'needed': 760, 'emotional': 761, 'features': 762, 'scifi': 763, 'sexual': 764, 'perfectly': 765, 'credits': 766, 'memorable': 767, 'nature': 768, 'footage': 769, 'superb': 770, 'hot': 771, 'meets': 772, 'interested': 773, 'write': 774, 'western': 775, 'leaves': 776, 'plus': 777, 'japanese': 778, 'filmmakers': 779, 'meet': 780, 'otherwise': 781, 'doctor': 782, 'society': 783, 'box': 784, 'incredibly': 785, 'realize': 786, 'inside': 787, 'copy': 788, 'imdb': 789, 'male': 790, 'quickly': 791, 'result': 792, 'earlier': 793, 'sounds': 794, 'towards': 795, 'dance': 796, 'cheesy': 797, 'worked': 798, 'air': 799, 'total': 800, 'romance': 801, 'hands': 802, 'beauty': 803, 'keeps': 804, 'personal': 805, 'comment': 806, 'badly': 807, 'effect': 808, 'screenplay': 809, 'admit': 810, 'various': 811, 'creepy': 812, 'stage': 813, 'older': 814, 'brings': 815, 'street': 816, 'island': 817, 'de': 818, 'plenty': 819, 'laughs': 820, 'outside': 821, 'setting': 822, 'masterpiece': 823, 'following': 824, 'apart': 825, 'weird': 826, 'free': 827, 'background': 828, 'crazy': 829, 'battle': 830, 'america': 831, 'unique': 832, 'appear': 833, 'directing': 834, 'fairly': 835, 'b': 836, 'bill': 837, 'remake': 838, 'powerful': 839, 'spent': 840, 'mark': 841, 'portrayed': 842, 'front': 843, 'leading': 844, 'acted': 845, 'development': 846, 'lee': 847, 'pay': 848, 'political': 849, 'fire': 850, 'ask': 851, 'deserves': 852, 'ideas': 853, 'mess': 854, 'dramatic': 855, 'joe': 856, 'baby': 857, 'business': 858, 'return': 859, 'create': 860, 'reasons': 861, 'attempts': 862, 'success': 863, 'fails': 864, 'cover': 865, 'rich': 866, 'la': 867, 'agree': 868, 'water': 869, 'william': 870, 'forward': 871, 'dumb': 872, 'manages': 873, 'hardly': 874, 'meant': 875, 'members': 876, 'disney': 877, 'present': 878, 'unlike': 879, 'recently': 880, 'wasted': 881, 'clever': 882, 'joke': 883, 'girlfriend': 884, 'cute': 885, 'fighting': 886, 'twist': 887, 'caught': 888, 'expecting': 889, 'dream': 890, 'missing': 891, 'odd': 892, 'villain': 893, 'created': 894, 'ended': 895, 'waiting': 896, 'secret': 897, 'pure': 898, 'escape': 899, 'plain': 900, 'familiar': 901, 'telling': 902, 'van': 903, 'gun': 904, 'cop': 905, 'brothers': 906, 'visual': 907, 'married': 908, 'party': 909, 'considering': 910, 'produced': 911, 'laughing': 912, 'casting': 913, 'break': 914, 'pace': 915, 'missed': 916, 'large': 917, 'rate': 918, 'zombie': 919, 'talented': 920, 'nudity': 921, 'potential': 922, 'sadly': 923, 'uses': 924, 'era': 925, 'decides': 926, 'hold': 927, 'german': 928, 'sees': 929, 'entirely': 930, 'slightly': 931, 'mentioned': 932, 'match': 933, 'credit': 934, 'fantasy': 935, 'public': 936, 'cause': 937, 'speak': 938, 'images': 939, 'tension': 940, 'younger': 941, 'choice': 942, 'producers': 943, 'fit': 944, 'popular': 945, 'wrote': 946, 'language': 947, 'intelligent': 948, 'value': 949, 'moves': 950, 'suddenly': 951, 'died': 952, 'convincing': 953, 'biggest': 954, 'incredible': 955, 'state': 956, 'fear': 957, 'dancing': 958, 'compared': 959, 'cartoon': 960, 'list': 961, 'train': 962, 'successful': 963, 'office': 964, 'amount': 965, 'italian': 966, 'neither': 967, 'filled': 968, 'former': 969, 'christmas': 970, 'store': 971, 'violent': 972, 'follows': 973, 'common': 974, 'college': 975, 'appreciate': 976, 'trouble': 977, 'likes': 978, 'audiences': 979, 'social': 980, 'band': 981, 'longer': 982, 'questions': 983, 'science': 984, 'sweet': 985, 'company': 986, 'bored': 987, 'solid': 988, 'ultimately': 989, 'concept': 990, 'flat': 991, 'portrayal': 992, 'force': 993, 'century': 994, 'ben': 995, 'spend': 996, 'basic': 997, 'positive': 998, 'sick': 999, 'cold': 1000}\n",
            "Kích thước của từ điển: 1000\n"
          ],
          "name": "stdout"
        }
      ]
    },
    {
      "cell_type": "markdown",
      "metadata": {
        "id": "MW5iEInCY77U"
      },
      "source": [
        "Thống kê độ dài của một bình luận, trung bình, độ lệch chuẩn"
      ]
    },
    {
      "cell_type": "code",
      "metadata": {
        "colab": {
          "base_uri": "https://localhost:8080/",
          "height": 418
        },
        "id": "xbrTf1y0ZEDZ",
        "outputId": "1226db72-a397-4a5b-c4d7-216c9feb3e05"
      },
      "source": [
        "rev_len = [len(i) for i in x_train]\n",
        "pd.Series(rev_len).hist()\n",
        "plt.show()\n",
        "pd.Series(rev_len).describe()"
      ],
      "execution_count": 18,
      "outputs": [
        {
          "output_type": "display_data",
          "data": {
            "image/png": "[encoded data removed]",
            "text/plain": [
              "<Figure size 432x288 with 1 Axes>"
            ]
          },
          "metadata": {
            "tags": [],
            "needs_background": "light"
          }
        },
        {
          "output_type": "execute_result",
          "data": {
            "text/plain": [
              "count    37500.000000\n",
              "mean        69.572053\n",
              "std         48.421766\n",
              "min          3.000000\n",
              "25%         39.000000\n",
              "50%         54.000000\n",
              "75%         85.000000\n",
              "max        654.000000\n",
              "dtype: float64"
            ]
          },
          "metadata": {
            "tags": []
          },
          "execution_count": 18
        }
      ]
    },
    {
      "cell_type": "markdown",
      "metadata": {
        "id": "P_qFFLatZLTe"
      },
      "source": [
        "Trung bình độ dài của một bình luận là 69 từ, có những bình luận chỉ có 2 từ.\n",
        "\n",
        "Quá trình Padding - chèn từng chuỗi để từng chuỗi có độ dài tối đa"
      ]
    },
    {
      "cell_type": "code",
      "metadata": {
        "id": "iRuy-M13ZqD3"
      },
      "source": [
        "def padding_(sentences, seq_len):\n",
        "    features = np.zeros((len(sentences), seq_len),dtype=int)\n",
        "    for ii, review in enumerate(sentences):\n",
        "        if len(review) != 0:\n",
        "            features[ii, -len(review):] = np.array(review)[:seq_len]\n",
        "    return features"
      ],
      "execution_count": 19,
      "outputs": []
    },
    {
      "cell_type": "code",
      "metadata": {
        "id": "qWAd74HLZ1rs"
      },
      "source": [
        "x_train_pad = padding_(x_train,500)\n",
        "x_test_pad = padding_(x_test,500)"
      ],
      "execution_count": 20,
      "outputs": []
    },
    {
      "cell_type": "code",
      "metadata": {
        "colab": {
          "base_uri": "https://localhost:8080/"
        },
        "id": "5TGNe9CXaBT6",
        "outputId": "9ae67358-200e-4ec7-ddc6-bbaf742c6bca"
      },
      "source": [
        "print(x_train_pad[0:5])"
      ],
      "execution_count": 21,
      "outputs": [
        {
          "output_type": "stream",
          "text": [
            "[[  0   0   0 ...  95  62  30]\n",
            " [  0   0   0 ...  30  35   6]\n",
            " [  0   0   0 ... 788 109 656]\n",
            " [  0   0   0 ... 283 190   2]\n",
            " [  0   0   0 ...   8 100 257]]\n"
          ],
          "name": "stdout"
        }
      ]
    },
    {
      "cell_type": "markdown",
      "metadata": {
        "id": "S6rRYX29aZYP"
      },
      "source": [
        "Tải và chuyển dữ liệu dưới dạng Tensor Pytorch"
      ]
    },
    {
      "cell_type": "code",
      "metadata": {
        "id": "u_Vt5rRwae97"
      },
      "source": [
        "# create Tensor datasets\n",
        "train_data = TensorDataset(torch.from_numpy(x_train_pad), torch.from_numpy(y_train))\n",
        "valid_data = TensorDataset(torch.from_numpy(x_test_pad), torch.from_numpy(y_test))\n",
        "\n",
        "# dataloaders\n",
        "batch_size = 50\n",
        "\n",
        "# make sure to SHUFFLE your data\n",
        "train_loader = DataLoader(train_data, shuffle=True, batch_size=batch_size)\n",
        "valid_loader = DataLoader(valid_data, shuffle=True, batch_size=batch_size)"
      ],
      "execution_count": 22,
      "outputs": []
    },
    {
      "cell_type": "markdown",
      "metadata": {
        "id": "hncfhyPUa_9u"
      },
      "source": [
        "Xét một batch_size = 50 khi sử dụng DataLoader"
      ]
    },
    {
      "cell_type": "code",
      "metadata": {
        "colab": {
          "base_uri": "https://localhost:8080/"
        },
        "id": "rVCQ9op9bGXG",
        "outputId": "24fd9f53-d635-49d5-8ae0-8fb2844cc879"
      },
      "source": [
        "# obtain one batch of training data\n",
        "dataiter = iter(train_loader)\n",
        "sample_x, sample_y = dataiter.next()\n",
        "\n",
        "print('Sample input size: ', sample_x.size()) # batch_size, seq_length\n",
        "print('Sample input: \\n', sample_x)\n",
        "print('Sample input: \\n', sample_y)"
      ],
      "execution_count": 23,
      "outputs": [
        {
          "output_type": "stream",
          "text": [
            "Sample input size:  torch.Size([50, 500])\n",
            "Sample input: \n",
            " tensor([[  0,   0,   0,  ...,   3,  37,  71],\n",
            "        [  0,   0,   0,  ...,   2, 899, 898],\n",
            "        [  0,   0,   0,  ...,  54, 593, 392],\n",
            "        ...,\n",
            "        [  0,   0,   0,  ..., 615, 244,   3],\n",
            "        [  0,   0,   0,  ..., 481,  11, 344],\n",
            "        [  0,   0,   0,  ..., 379,  45, 133]])\n",
            "Sample input: \n",
            " tensor([0, 1, 1, 0, 0, 0, 0, 0, 1, 0, 1, 1, 0, 1, 1, 1, 0, 0, 1, 1, 0, 0, 1, 0,\n",
            "        0, 1, 1, 1, 1, 1, 1, 1, 1, 1, 1, 1, 0, 0, 1, 1, 0, 1, 1, 0, 1, 1, 0, 0,\n",
            "        1, 1])\n"
          ],
          "name": "stdout"
        }
      ]
    },
    {
      "cell_type": "markdown",
      "metadata": {
        "id": "IYSSAdRObmPg"
      },
      "source": [
        "#**Mô Hình LSTM trong Mạng Neuron Hồi Tiếp RNN**"
      ]
    },
    {
      "cell_type": "markdown",
      "metadata": {
        "id": "rOoeAOKbzQcM"
      },
      "source": [
        "Xây dựng class mô hình RNN\n",
        "- output_dim : \n",
        "- hidden_dim : \n",
        "- no_layers:\n",
        "- vocab_size: kích thước của từ điển \n",
        "- embedding: kích thước ma trận nhúng (từ điển, số chiều nhúng)\n",
        "- lstm:\n",
        "\n",
        "Quá trình forward\n",
        "\n"
      ]
    },
    {
      "cell_type": "code",
      "metadata": {
        "id": "Qi47YLW7b1HM"
      },
      "source": [
        "class SentimentRNN(nn.Module):\n",
        "  def __init__(self,no_layers,vocab_size,hidden_dim,embedding_dim,drop_prob=0.5):\n",
        "        super(SentimentRNN,self).__init__()\n",
        " \n",
        "        self.output_dim = output_dim\n",
        "        self.hidden_dim = hidden_dim\n",
        " \n",
        "        self.no_layers = no_layers\n",
        "        self.vocab_size = vocab_size\n",
        "\n",
        "        # embedding and LSTM layers\n",
        "        self.embedding = nn.Embedding(vocab_size, embedding_dim)\n",
        "\n",
        "        #lstm\n",
        "        self.lstm = nn.LSTM(input_size=embedding_dim,hidden_size=self.hidden_dim,\n",
        "                           num_layers=no_layers, batch_first=True)\n",
        "        \n",
        "        \n",
        "        # dropout layer\n",
        "        self.dropout = nn.Dropout(0.3)\n",
        "    \n",
        "        # linear and sigmoid layer\n",
        "        self.fc = nn.Linear(self.hidden_dim, output_dim)\n",
        "        self.sig = nn.Sigmoid()\n",
        "  def forward(self,x,hidden):\n",
        "        batch_size = x.size(0)\n",
        "        # embeddings and lstm_out\n",
        "        embeds = self.embedding(x)  # shape: B x S x Feature   since batch = True\n",
        "        # print(\"Embedim_shape:\",embeds.shape)  #[50, 500, 1000]\n",
        "        lstm_out, hidden = self.lstm(embeds, hidden)\n",
        "        \n",
        "        lstm_out = lstm_out.contiguous().view(-1, self.hidden_dim) \n",
        "        \n",
        "        # dropout and fully connected layer\n",
        "        out = self.dropout(lstm_out)\n",
        "        out = self.fc(out)\n",
        "        \n",
        "        # sigmoid function\n",
        "        sig_out = self.sig(out)\n",
        "        \n",
        "        # reshape to be batch_size first\n",
        "        sig_out = sig_out.view(batch_size, -1)\n",
        "\n",
        "        sig_out = sig_out[:, -1] # get last batch of labels\n",
        "        \n",
        "        # return last sigmoid output and hidden state\n",
        "        return sig_out, hidden\n",
        "  def init_hidden(self, batch_size):\n",
        "        ''' Initializes hidden state '''\n",
        "        # Create two new tensors with sizes n_layers x batch_size x hidden_dim,\n",
        "        # initialized to zero, for hidden state and cell state of LSTM\n",
        "        h0 = torch.zeros((self.no_layers,batch_size,self.hidden_dim)).to(device)\n",
        "        c0 = torch.zeros((self.no_layers,batch_size,self.hidden_dim)).to(device)\n",
        "        hidden = (h0,c0)\n",
        "        return hidden\n"
      ],
      "execution_count": 24,
      "outputs": []
    },
    {
      "cell_type": "code",
      "metadata": {
        "colab": {
          "base_uri": "https://localhost:8080/"
        },
        "id": "BbDgVX3NoHYL",
        "outputId": "101cab22-4c3c-45e5-c63d-49267b703d9c"
      },
      "source": [
        "no_layers = 2\n",
        "vocab_size = len(vocab) + 1 #extra 1 for padding\n",
        "embedding_dim = 64\n",
        "output_dim = 1\n",
        "hidden_dim = 256\n",
        "\n",
        "\n",
        "model = SentimentRNN(no_layers,vocab_size,hidden_dim,embedding_dim,drop_prob=0.5)\n",
        "\n",
        "#moving to gpu\n",
        "model.to(device)\n",
        "\n",
        "print(model)"
      ],
      "execution_count": 25,
      "outputs": [
        {
          "output_type": "stream",
          "text": [
            "SentimentRNN(\n",
            "  (embedding): Embedding(1001, 64)\n",
            "  (lstm): LSTM(64, 256, num_layers=2, batch_first=True)\n",
            "  (dropout): Dropout(p=0.3, inplace=False)\n",
            "  (fc): Linear(in_features=256, out_features=1, bias=True)\n",
            "  (sig): Sigmoid()\n",
            ")\n"
          ],
          "name": "stdout"
        }
      ]
    },
    {
      "cell_type": "code",
      "metadata": {
        "id": "8HfgRpNyoNE5"
      },
      "source": [
        "# loss and optimization functions\n",
        "lr=0.001\n",
        "\n",
        "criterion = nn.BCELoss()\n",
        "\n",
        "optimizer = torch.optim.Adam(model.parameters(), lr=lr)\n",
        "\n",
        "# function to predict accuracy\n",
        "def acc(pred,label):\n",
        "    pred = torch.round(pred.squeeze())\n",
        "    return torch.sum(pred == label.squeeze()).item()"
      ],
      "execution_count": 26,
      "outputs": []
    },
    {
      "cell_type": "code",
      "metadata": {
        "colab": {
          "base_uri": "https://localhost:8080/"
        },
        "id": "d-bbSEdYoTHR",
        "outputId": "c17fb97e-143d-49b4-ef52-af4b5a5f385f"
      },
      "source": [
        "clip = 5\n",
        "epochs = 10\n",
        "valid_loss_min = np.Inf\n",
        "# train for some number of epochs\n",
        "epoch_tr_loss,epoch_vl_loss = [],[]\n",
        "epoch_tr_acc,epoch_vl_acc = [],[]\n",
        "\n",
        "for epoch in range(epochs):\n",
        "    train_losses = []\n",
        "    train_acc = 0.0\n",
        "    model.train()\n",
        "    # initialize hidden state \n",
        "    h = model.init_hidden(batch_size)\n",
        "    for inputs, labels in train_loader:\n",
        "        \n",
        "        inputs, labels = inputs.to(device), labels.to(device) \n",
        "        # print(\"inputs:\", inputs)\n",
        "        # print(\"inputs shape:\", inputs.shape)\n",
        "        # print(\"labels:\", labels)\n",
        "        # print(\"labels shape:\", labels.shape)\n",
        "\n",
        "        # Creating new variables for the hidden state, otherwise\n",
        "        # we'd backprop through the entire training history\n",
        "        h = tuple([each.data for each in h])\n",
        "        # print(\"h:\", h)\n",
        "        # print(\"h shape:\", len(h))\n",
        "        model.zero_grad()\n",
        "        output,h = model(inputs,h)\n",
        "        \n",
        "        # calculate the loss and perform backprop\n",
        "        loss = criterion(output.squeeze(), labels.float())\n",
        "        loss.backward()\n",
        "        train_losses.append(loss.item())\n",
        "        # calculating accuracy\n",
        "        accuracy = acc(output,labels)\n",
        "        train_acc += accuracy\n",
        "        #`clip_grad_norm` helps prevent the exploding gradient problem in RNNs / LSTMs.\n",
        "        nn.utils.clip_grad_norm_(model.parameters(), clip)\n",
        "        optimizer.step()\n",
        "        \n",
        "        \n",
        "    \n",
        "        \n",
        "    val_h = model.init_hidden(batch_size)\n",
        "    val_losses = []\n",
        "    val_acc = 0.0\n",
        "    model.eval()\n",
        "    for inputs, labels in valid_loader:\n",
        "            val_h = tuple([each.data for each in val_h])\n",
        "\n",
        "            inputs, labels = inputs.to(device), labels.to(device)\n",
        "\n",
        "            output, val_h = model(inputs, val_h)\n",
        "            val_loss = criterion(output.squeeze(), labels.float())\n",
        "\n",
        "            val_losses.append(val_loss.item())\n",
        "            \n",
        "            accuracy = acc(output,labels)\n",
        "            val_acc += accuracy\n",
        "            \n",
        "    epoch_train_loss = np.mean(train_losses)\n",
        "    epoch_val_loss = np.mean(val_losses)\n",
        "    epoch_train_acc = train_acc/len(train_loader.dataset)\n",
        "    epoch_val_acc = val_acc/len(valid_loader.dataset)\n",
        "    epoch_tr_loss.append(epoch_train_loss)\n",
        "    epoch_vl_loss.append(epoch_val_loss)\n",
        "    epoch_tr_acc.append(epoch_train_acc)\n",
        "    epoch_vl_acc.append(epoch_val_acc)\n",
        "    print(f'Epoch {epoch+1}') \n",
        "    print(f'train_loss : {epoch_train_loss} val_loss : {epoch_val_loss}')\n",
        "    print(f'train_accuracy : {epoch_train_acc*100} val_accuracy : {epoch_val_acc*100}')\n",
        "    if epoch_val_loss <= valid_loss_min:\n",
        "        torch.save(model.state_dict(), '/content/gdrive/MyDrive/LSTM/state_dict.pt')\n",
        "        print('Validation loss decreased ({:.6f} --> {:.6f}).  Saving model ...'.format(valid_loss_min,epoch_val_loss))\n",
        "        valid_loss_min = epoch_val_loss\n",
        "    print(25*'==')\n",
        "    "
      ],
      "execution_count": 27,
      "outputs": [
        {
          "output_type": "stream",
          "text": [
            "Epoch 1\n",
            "train_loss : 0.5181178936958313 val_loss : 0.4185748643279076\n",
            "train_accuracy : 74.488 val_accuracy : 81.328\n",
            "Validation loss decreased (inf --> 0.418575).  Saving model ...\n",
            "==================================================\n",
            "Epoch 2\n",
            "train_loss : 0.395133052666982 val_loss : 0.36387846946716307\n",
            "train_accuracy : 82.768 val_accuracy : 83.896\n",
            "Validation loss decreased (0.418575 --> 0.363878).  Saving model ...\n",
            "==================================================\n",
            "Epoch 3\n",
            "train_loss : 0.34185469542940455 val_loss : 0.3574662390947342\n",
            "train_accuracy : 85.51466666666667 val_accuracy : 84.624\n",
            "Validation loss decreased (0.363878 --> 0.357466).  Saving model ...\n",
            "==================================================\n",
            "Epoch 4\n",
            "train_loss : 0.31029180470108986 val_loss : 0.3493713532090187\n",
            "train_accuracy : 86.74666666666667 val_accuracy : 84.63199999999999\n",
            "Validation loss decreased (0.357466 --> 0.349371).  Saving model ...\n",
            "==================================================\n",
            "Epoch 5\n",
            "train_loss : 0.27950875266393027 val_loss : 0.34272393184900285\n",
            "train_accuracy : 88.24533333333333 val_accuracy : 85.32\n",
            "Validation loss decreased (0.349371 --> 0.342724).  Saving model ...\n",
            "==================================================\n",
            "Epoch 6\n",
            "train_loss : 0.24736138291160265 val_loss : 0.35291129767894747\n",
            "train_accuracy : 89.92533333333334 val_accuracy : 85.28\n",
            "==================================================\n",
            "Epoch 7\n",
            "train_loss : 0.19317224704722563 val_loss : 0.3907316319644451\n",
            "train_accuracy : 92.42133333333334 val_accuracy : 84.432\n",
            "==================================================\n",
            "Epoch 8\n",
            "train_loss : 0.13777257347851993 val_loss : 0.4766339795291424\n",
            "train_accuracy : 94.792 val_accuracy : 84.608\n",
            "==================================================\n",
            "Epoch 9\n",
            "train_loss : 0.07582367176935077 val_loss : 0.5796637957692147\n",
            "train_accuracy : 97.32 val_accuracy : 83.36\n",
            "==================================================\n",
            "Epoch 10\n",
            "train_loss : 0.050520379434960586 val_loss : 0.6999591003358364\n",
            "train_accuracy : 98.28 val_accuracy : 82.91199999999999\n",
            "==================================================\n"
          ],
          "name": "stdout"
        }
      ]
    },
    {
      "cell_type": "markdown",
      "metadata": {
        "id": "VMuLUKdA5yQN"
      },
      "source": [
        "Qúa trình lan truyền tiến forward:\n",
        "- Tensor đầu vào: [50, 500] trong đó 50 là batch_size và 500 độ dài mã hoá, label [50]\n",
        "- Embedd(x): [1001, 64], nhúng tensor đầu [50, 500] được embedding là [50, 500, 64].\n",
        "- Qua kiến trúc LSTM(x, hidden), đầu ra lstm_out = (bath_size = 50, squen_len= 500, hidden_dim = 256)\n",
        "- View lại đầu ra lstm_out(25000, 256)\n",
        "- Đi qua một lớp tuyến tính (hidden_dim =256, out_put_dim =1) được tensor (25000, 1), qua lớp sigmoid.\n",
        "- View lại tensor(batch_size,-1): (50,500), đầu ra torch[50] chứa các vector xác suất của 50 câu.\n",
        "\n"
      ]
    },
    {
      "cell_type": "code",
      "metadata": {
        "colab": {
          "base_uri": "https://localhost:8080/",
          "height": 344
        },
        "id": "0UxrW0WYqPEM",
        "outputId": "2590c9cf-2ac8-4e24-a5e3-ae7ef3174328"
      },
      "source": [
        "fig = plt.figure(figsize = (20, 6))\n",
        "plt.subplot(1, 2, 1)\n",
        "plt.plot(epoch_tr_acc, label='Train Acc')\n",
        "plt.plot(epoch_vl_acc, label='Validation Acc')\n",
        "plt.title(\"Accuracy\")\n",
        "plt.legend()\n",
        "plt.grid()\n",
        "    \n",
        "plt.subplot(1, 2, 2)\n",
        "plt.plot(epoch_tr_loss, label='Train loss')\n",
        "plt.plot(epoch_vl_loss, label='Validation loss')\n",
        "plt.title(\"Loss\")\n",
        "plt.legend()\n",
        "plt.grid()\n",
        "\n",
        "plt.show()"
      ],
      "execution_count": 28,
      "outputs": [
        {
          "output_type": "display_data",
          "data": {
            "image/png": "[encoded data removed]",
            "text/plain": [
              "<Figure size 1440x432 with 2 Axes>"
            ]
          },
          "metadata": {
            "tags": [],
            "needs_background": "light"
          }
        }
      ]
    }
  ]
}